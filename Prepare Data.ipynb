{
 "cells": [
  {
   "cell_type": "code",
   "execution_count": 1,
   "id": "207ce3bc-d7e3-4a94-92df-9477c1e03e31",
   "metadata": {},
   "outputs": [],
   "source": [
    "import sqlite3\n",
    "import pandas as pd"
   ]
  },
  {
   "cell_type": "code",
   "execution_count": 2,
   "id": "226914d3-1d12-4f4b-9245-a081c2eb5fac",
   "metadata": {},
   "outputs": [],
   "source": [
    "data = pd.read_csv(\"world_bank_data_2025.csv\")"
   ]
  },
  {
   "cell_type": "code",
   "execution_count": 5,
   "id": "410c94f9-9da8-4aab-8fef-f46a377f8681",
   "metadata": {},
   "outputs": [
    {
     "data": {
      "text/plain": [
       "country_name                          0\n",
       "country_id                            0\n",
       "year                                  0\n",
       "Inflation (CPI %)                   778\n",
       "GDP (Current USD)                   539\n",
       "GDP per Capita (Current USD)        534\n",
       "Unemployment Rate (%)               677\n",
       "Interest Rate (Real, %)            1737\n",
       "Inflation (GDP Deflator, %)         568\n",
       "GDP Growth (% Annual)               560\n",
       "Current Account Balance (% GDP)     909\n",
       "Government Expense (% of GDP)      1652\n",
       "Government Revenue (% of GDP)      1643\n",
       "Tax Revenue (% of GDP)             1639\n",
       "Gross National Income (USD)         676\n",
       "Public Debt (% of GDP)             2620\n",
       "dtype: int64"
      ]
     },
     "execution_count": 5,
     "metadata": {},
     "output_type": "execute_result"
    }
   ],
   "source": [
    "data.isnull().sum()"
   ]
  },
  {
   "cell_type": "code",
   "execution_count": 6,
   "id": "f261e358-86f2-4430-8858-928c4b65c37c",
   "metadata": {},
   "outputs": [],
   "source": [
    "data = data[~data.iloc[:, 3:].isnull().all(axis=1)]"
   ]
  },
  {
   "cell_type": "code",
   "execution_count": 7,
   "id": "04e49a65-ca8a-4de3-a55b-7410e64a8237",
   "metadata": {},
   "outputs": [
    {
     "data": {
      "text/plain": [
       "(3185, 16)"
      ]
     },
     "execution_count": 7,
     "metadata": {},
     "output_type": "execute_result"
    }
   ],
   "source": [
    "data.shape"
   ]
  },
  {
   "cell_type": "code",
   "execution_count": 8,
   "id": "ead3d0e7-aaa1-4b09-8d78-44b46211e34f",
   "metadata": {},
   "outputs": [],
   "source": [
    "conn = sqlite3.connect('globaleconomicdata.db')"
   ]
  },
  {
   "cell_type": "code",
   "execution_count": 9,
   "id": "79e799b9-d395-427d-a3a5-9c0ce658ed7f",
   "metadata": {},
   "outputs": [
    {
     "data": {
      "text/plain": [
       "3185"
      ]
     },
     "execution_count": 9,
     "metadata": {},
     "output_type": "execute_result"
    }
   ],
   "source": [
    "data.to_sql('economicdata', conn, if_exists='replace', index=False)"
   ]
  },
  {
   "cell_type": "code",
   "execution_count": 10,
   "id": "7ee1e099-5c0a-4f44-a325-e1bec19ece66",
   "metadata": {},
   "outputs": [],
   "source": [
    "conn.close()"
   ]
  },
  {
   "cell_type": "code",
   "execution_count": null,
   "id": "cc26aba6-7e1d-4a75-9bd6-7569771442de",
   "metadata": {},
   "outputs": [],
   "source": []
  }
 ],
 "metadata": {
  "kernelspec": {
   "display_name": "Python 3 (ipykernel)",
   "language": "python",
   "name": "python3"
  },
  "language_info": {
   "codemirror_mode": {
    "name": "ipython",
    "version": 3
   },
   "file_extension": ".py",
   "mimetype": "text/x-python",
   "name": "python",
   "nbconvert_exporter": "python",
   "pygments_lexer": "ipython3",
   "version": "3.12.4"
  }
 },
 "nbformat": 4,
 "nbformat_minor": 5
}
